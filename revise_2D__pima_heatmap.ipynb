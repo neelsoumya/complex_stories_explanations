{
  "nbformat": 4,
  "nbformat_minor": 0,
  "metadata": {
    "colab": {
      "provenance": [],
      "authorship_tag": "ABX9TyPj2lSBMLPcHo1q/lhadPva",
      "include_colab_link": true
    },
    "kernelspec": {
      "name": "python3",
      "display_name": "Python 3"
    },
    "language_info": {
      "name": "python"
    }
  },
  "cells": [
    {
      "cell_type": "markdown",
      "metadata": {
        "id": "view-in-github",
        "colab_type": "text"
      },
      "source": [
        "<a href=\"https://colab.research.google.com/github/yujiayang1999/pima-analysis/blob/main/revise_2D__pima_heatmap.ipynb\" target=\"_parent\"><img src=\"https://colab.research.google.com/assets/colab-badge.svg\" alt=\"Open In Colab\"/></a>"
      ]
    },
    {
      "cell_type": "code",
      "execution_count": 1,
      "metadata": {
        "id": "NaNfPBNxrNwd"
      },
      "outputs": [],
      "source": [
        "from numpy import loadtxt\n",
        "from tensorflow.keras.models import Sequential\n",
        "from tensorflow.keras.layers import Dense\n",
        "import numpy as np\n",
        "import pandas as pd\n",
        "from sklearn import preprocessing\n",
        "import seaborn as sns\n",
        "import matplotlib.pyplot as plt\n",
        "from sklearn.model_selection import train_test_split"
      ]
    },
    {
      "cell_type": "code",
      "source": [
        "data = pd.read_csv('diabetes.csv', delimiter=',')\n",
        "# data = data.loc[~((data['Glucose'] == 0) | (data['BloodPressure'] == 0)|(data['SkinThickness'] == 0) | (data['BMI'] == 0))]\n",
        "# data[[\"Pregnancies\",\"Glucose\",\"BloodPressure\",\"SkinThickness\",\"Insulin\",\"BMI\",\"DiabetesPedigreeFunction\",\"Age\"]] = data[[\"Pregnancies\",\"Glucose\",\"BloodPressure\",\"SkinThickness\",\"Insulin\",\"BMI\",\"DiabetesPedigreeFunction\",\"Age\"]].replace(0,np.nan)\n",
        "features = [\"Pregnancies\",\"Glucose\",\"BloodPressure\",\"SkinThickness\",\"Insulin\",\"BMI\",\"DiabetesPedigreeFunction\",\"Age\"]\n",
        "data[[\"Pregnancies\",\"Glucose\",\"BloodPressure\",\"SkinThickness\",\"Insulin\",\"BMI\",\"DiabetesPedigreeFunction\",\"Age\"]] = data[[\"Pregnancies\",\"Glucose\",\"BloodPressure\",\"SkinThickness\",\"Insulin\",\"BMI\",\"DiabetesPedigreeFunction\",\"Age\"]].replace(0,data.mean(axis=0))\n",
        "outcome = data.iloc[:,8]\n",
        "# data.replace(0,data.mean(axis=0),inplace=True)\n",
        "print(data)\n",
        "print(data.describe().T)\n",
        "# data.hist(column=\"Pregnancies\")\n"
      ],
      "metadata": {
        "colab": {
          "base_uri": "https://localhost:8080/"
        },
        "id": "SMS5k6uwZWXe",
        "outputId": "cd7e02df-db61-40c3-eca3-fb99ae06cf82"
      },
      "execution_count": 2,
      "outputs": [
        {
          "output_type": "stream",
          "name": "stdout",
          "text": [
            "     Pregnancies  Glucose  BloodPressure  SkinThickness     Insulin   BMI  \\\n",
            "0       6.000000    148.0           72.0      35.000000   79.799479  33.6   \n",
            "1       1.000000     85.0           66.0      29.000000   79.799479  26.6   \n",
            "2       8.000000    183.0           64.0      20.536458   79.799479  23.3   \n",
            "3       1.000000     89.0           66.0      23.000000   94.000000  28.1   \n",
            "4       3.845052    137.0           40.0      35.000000  168.000000  43.1   \n",
            "..           ...      ...            ...            ...         ...   ...   \n",
            "763    10.000000    101.0           76.0      48.000000  180.000000  32.9   \n",
            "764     2.000000    122.0           70.0      27.000000   79.799479  36.8   \n",
            "765     5.000000    121.0           72.0      23.000000  112.000000  26.2   \n",
            "766     1.000000    126.0           60.0      20.536458   79.799479  30.1   \n",
            "767     1.000000     93.0           70.0      31.000000   79.799479  30.4   \n",
            "\n",
            "     DiabetesPedigreeFunction  Age  Outcome  \n",
            "0                       0.627   50        1  \n",
            "1                       0.351   31        0  \n",
            "2                       0.672   32        1  \n",
            "3                       0.167   21        0  \n",
            "4                       2.288   33        1  \n",
            "..                        ...  ...      ...  \n",
            "763                     0.171   63        0  \n",
            "764                     0.340   27        0  \n",
            "765                     0.245   30        0  \n",
            "766                     0.349   47        1  \n",
            "767                     0.315   23        0  \n",
            "\n",
            "[768 rows x 9 columns]\n",
            "                          count        mean        std     min        25%  \\\n",
            "Pregnancies               768.0    4.400782   2.984162   1.000   2.000000   \n",
            "Glucose                   768.0  121.681605  30.436016  44.000  99.750000   \n",
            "BloodPressure             768.0   72.254807  12.115932  24.000  64.000000   \n",
            "SkinThickness             768.0   26.606479   9.631241   7.000  20.536458   \n",
            "Insulin                   768.0  118.660163  93.080358  14.000  79.799479   \n",
            "BMI                       768.0   32.450805   6.875374  18.200  27.500000   \n",
            "DiabetesPedigreeFunction  768.0    0.471876   0.331329   0.078   0.243750   \n",
            "Age                       768.0   33.240885  11.760232  21.000  24.000000   \n",
            "Outcome                   768.0    0.348958   0.476951   0.000   0.000000   \n",
            "\n",
            "                                 50%        75%     max  \n",
            "Pregnancies                 3.845052    6.00000   17.00  \n",
            "Glucose                   117.000000  140.25000  199.00  \n",
            "BloodPressure              72.000000   80.00000  122.00  \n",
            "SkinThickness              23.000000   32.00000   99.00  \n",
            "Insulin                    79.799479  127.25000  846.00  \n",
            "BMI                        32.000000   36.60000   67.10  \n",
            "DiabetesPedigreeFunction    0.372500    0.62625    2.42  \n",
            "Age                        29.000000   41.00000   81.00  \n",
            "Outcome                     0.000000    1.00000    1.00  \n"
          ]
        }
      ]
    },
    {
      "cell_type": "code",
      "source": [
        "# from soft_impute import SoftImpute\n",
        "# clf = SoftImpute(J=1, lambda_=2.0)\n",
        "# X_test = data.to_numpy().copy()\n",
        "# fit = clf.fit(X_test)\n",
        "# imputed = clf.predict(X_test)\n",
        "# k = imputed[:,0]\n",
        "# plt.hist(k,bins = [0,2,4,6,8,10,12,14,16]) \n",
        "# plt.title(\"histogram\") \n",
        "# plt.show()"
      ],
      "metadata": {
        "id": "AFosUCVwt_Ia"
      },
      "execution_count": 3,
      "outputs": []
    },
    {
      "cell_type": "code",
      "source": [
        "d = preprocessing.normalize(data.iloc[:,0:8], axis=0)\n",
        "# scaled_df = pd.DataFrame(d, columns = [data.columns])\n",
        "scaled_df = pd.DataFrame(d, columns = features)\n",
        "scaled_df = pd.concat([scaled_df, outcome], axis=1)\n",
        "print(scaled_df.describe().T)\n",
        "# d = preprocessing.normalize(data, axis=0)\n",
        "# scaled_df = pd.DataFrame(d, columns = [data.columns])\n",
        "\n",
        "\n",
        "# norm_data = preprocessing.normalize(Insurance_Data, axis=0)\n",
        "# norm_df = pd.DataFrame(norm_data,columns=[Insurance_Data.columns])"
      ],
      "metadata": {
        "colab": {
          "base_uri": "https://localhost:8080/"
        },
        "id": "wL0aVajyr8hI",
        "outputId": "5026a05e-d15e-43b7-e966-3eecf87312a6"
      },
      "execution_count": 4,
      "outputs": [
        {
          "output_type": "stream",
          "name": "stdout",
          "text": [
            "                          count      mean       std       min       25%  \\\n",
            "Pregnancies               768.0  0.029872  0.020256  0.006788  0.013576   \n",
            "Glucose                   768.0  0.035007  0.008756  0.012659  0.028698   \n",
            "BloodPressure             768.0  0.035588  0.005968  0.011821  0.031522   \n",
            "SkinThickness             768.0  0.033932  0.012283  0.008927  0.026191   \n",
            "Insulin                   768.0  0.028399  0.022277  0.003351  0.019098   \n",
            "BMI                       768.0  0.035302  0.007479  0.019799  0.029916   \n",
            "DiabetesPedigreeFunction  768.0  0.029538  0.020740  0.004883  0.015258   \n",
            "Age                       768.0  0.034021  0.012036  0.021493  0.024563   \n",
            "Outcome                   768.0  0.348958  0.476951  0.000000  0.000000   \n",
            "\n",
            "                               50%       75%       max  \n",
            "Pregnancies               0.026099  0.040727  0.115393  \n",
            "Glucose                   0.033660  0.040349  0.057251  \n",
            "BloodPressure             0.035463  0.039403  0.060090  \n",
            "SkinThickness             0.029333  0.040811  0.126259  \n",
            "Insulin                   0.019098  0.030454  0.202471  \n",
            "BMI                       0.034811  0.039815  0.072995  \n",
            "DiabetesPedigreeFunction  0.023317  0.039201  0.151484  \n",
            "Age                       0.029680  0.041962  0.082900  \n",
            "Outcome                   0.000000  1.000000  1.000000  \n"
          ]
        }
      ]
    },
    {
      "cell_type": "code",
      "source": [
        "scaled_df.hist(column=\"Glucose\")"
      ],
      "metadata": {
        "colab": {
          "base_uri": "https://localhost:8080/",
          "height": 317
        },
        "id": "BwA_Ijybq_5S",
        "outputId": "a6085655-faf0-43a4-a575-4ec43110374d"
      },
      "execution_count": 5,
      "outputs": [
        {
          "output_type": "execute_result",
          "data": {
            "text/plain": [
              "array([[<matplotlib.axes._subplots.AxesSubplot object at 0x7fc9bcda36d0>]],\n",
              "      dtype=object)"
            ]
          },
          "metadata": {},
          "execution_count": 5
        },
        {
          "output_type": "display_data",
          "data": {
            "text/plain": [
              "<Figure size 432x288 with 1 Axes>"
            ],
            "image/png": "[encoded data removed]"
          },
          "metadata": {
            "needs_background": "light"
          }
        }
      ]
    },
    {
      "cell_type": "code",
      "source": [
        "scaled_df.hist(column=\"BloodPressure\")"
      ],
      "metadata": {
        "colab": {
          "base_uri": "https://localhost:8080/",
          "height": 317
        },
        "id": "Ko05EB2mrF-F",
        "outputId": "df0ca419-3afe-4c0c-9ba7-6735b7f809a7"
      },
      "execution_count": 6,
      "outputs": [
        {
          "output_type": "execute_result",
          "data": {
            "text/plain": [
              "array([[<matplotlib.axes._subplots.AxesSubplot object at 0x7fc9bcd09cd0>]],\n",
              "      dtype=object)"
            ]
          },
          "metadata": {},
          "execution_count": 6
        },
        {
          "output_type": "display_data",
          "data": {
            "text/plain": [
              "<Figure size 432x288 with 1 Axes>"
            ],
            "image/png": "[encoded data removed]"
          },
          "metadata": {
            "needs_background": "light"
          }
        }
      ]
    },
    {
      "cell_type": "code",
      "source": [
        "X = scaled_df.iloc[:,0:8].to_numpy()\n",
        "# dataset.iloc[:, 4]\n",
        "print(X)\n",
        "y = data.iloc[:,8].to_numpy()\n",
        "print(y)\n"
      ],
      "metadata": {
        "colab": {
          "base_uri": "https://localhost:8080/"
        },
        "id": "h--Q06U4sIM1",
        "outputId": "92c4d0e1-20b4-4533-c189-2f689100666d"
      },
      "execution_count": 7,
      "outputs": [
        {
          "output_type": "stream",
          "name": "stdout",
          "text": [
            "[[0.04072683 0.04257898 0.03546267 ... 0.03655192 0.03924821 0.05117289]\n",
            " [0.00678781 0.02445414 0.03250745 ... 0.02893694 0.02197149 0.03172719]\n",
            " [0.05430244 0.05264833 0.03152238 ... 0.02534702 0.04206507 0.03275065]\n",
            " ...\n",
            " [0.03393903 0.03481119 0.03546267 ... 0.0285018  0.01533622 0.03070373]\n",
            " [0.00678781 0.03624967 0.02955223 ... 0.03274443 0.02184629 0.04810252]\n",
            " [0.00678781 0.02675571 0.0344776  ... 0.03307079 0.019718   0.02353953]]\n",
            "[1 0 1 0 1 0 1 0 1 1 0 1 0 1 1 1 1 1 0 1 0 0 1 1 1 1 1 0 0 0 0 1 0 0 0 0 0\n",
            " 1 1 1 0 0 0 1 0 1 0 0 1 0 0 0 0 1 0 0 1 0 0 0 0 1 0 0 1 0 1 0 0 0 1 0 1 0\n",
            " 0 0 0 0 1 0 0 0 0 0 1 0 0 0 1 0 0 0 0 1 0 0 0 0 0 1 1 0 0 0 0 0 0 0 0 1 1\n",
            " 1 0 0 1 1 1 0 0 0 1 0 0 0 1 1 0 0 1 1 1 1 1 0 0 0 0 0 0 0 0 0 0 1 0 0 0 0\n",
            " 0 0 0 0 1 0 1 1 0 0 0 1 0 0 0 0 1 1 0 0 0 0 1 1 0 0 0 1 0 1 0 1 0 0 0 0 0\n",
            " 1 1 1 1 1 0 0 1 1 0 1 0 1 1 1 0 0 0 0 0 0 1 1 0 1 0 0 0 1 1 1 1 0 1 1 1 1\n",
            " 0 0 0 0 0 1 0 0 1 1 0 0 0 1 1 1 1 0 0 0 1 1 0 1 0 0 0 0 0 0 0 0 1 1 0 0 0\n",
            " 1 0 1 0 0 1 0 1 0 0 1 1 0 0 0 0 0 1 0 0 0 1 0 0 1 1 0 0 1 0 0 0 1 1 1 0 0\n",
            " 1 0 1 0 1 1 0 1 0 0 1 0 1 1 0 0 1 0 1 0 0 1 0 1 0 1 1 1 0 0 1 0 1 0 0 0 1\n",
            " 0 0 0 0 1 1 1 0 0 0 0 0 0 0 0 0 1 0 0 0 0 0 1 1 1 0 1 1 0 0 1 0 0 1 0 0 1\n",
            " 1 0 0 0 0 1 0 0 1 0 0 0 0 0 0 0 1 1 1 0 0 1 0 0 1 0 0 1 0 1 1 0 1 0 1 0 1\n",
            " 0 1 1 0 0 0 0 1 1 0 1 0 1 0 0 0 0 1 1 0 1 0 1 0 0 0 0 0 1 0 0 0 0 1 0 0 1\n",
            " 1 1 0 0 1 0 0 1 0 0 0 1 0 0 1 0 0 0 0 0 0 0 0 0 1 0 0 0 0 0 0 0 1 0 0 0 1\n",
            " 0 0 0 1 1 0 0 0 0 0 0 0 1 0 0 0 0 1 0 0 0 1 0 0 0 1 0 0 0 1 0 0 0 0 1 1 0\n",
            " 0 0 0 0 0 1 0 0 0 0 0 0 0 0 0 0 0 1 0 0 0 1 1 1 1 0 0 1 1 0 0 0 0 0 0 0 0\n",
            " 0 0 0 0 0 1 1 0 0 0 0 0 0 0 1 0 0 0 0 0 0 0 1 0 1 1 0 0 0 1 0 1 0 1 0 1 0\n",
            " 1 0 0 1 0 0 1 0 0 0 0 1 1 0 1 0 0 0 0 1 1 0 1 0 0 0 1 1 0 0 0 0 0 0 0 0 0\n",
            " 0 1 0 0 0 0 1 0 0 1 0 0 0 1 0 0 0 1 1 1 0 0 0 0 0 0 1 0 0 0 1 0 1 1 1 1 0\n",
            " 1 1 0 0 0 0 0 0 0 1 1 0 1 0 0 1 0 1 0 0 0 0 0 1 0 1 0 1 0 1 1 0 0 0 0 1 1\n",
            " 0 0 0 1 0 1 1 0 0 1 0 0 1 1 0 0 1 0 0 1 0 0 0 0 0 0 0 1 1 1 0 0 0 0 0 0 1\n",
            " 1 0 0 1 0 0 1 0 1 1 1 0 0 1 1 1 0 1 0 1 0 1 0 0 0 0 1 0]\n"
          ]
        }
      ]
    },
    {
      "cell_type": "code",
      "source": [
        "np.random.seed(42)\n",
        "x_train, x_test, y_train, y_test = train_test_split(X,y,test_size = 0.3,random_state=5)"
      ],
      "metadata": {
        "id": "l8GdTk4yavg6"
      },
      "execution_count": 8,
      "outputs": []
    },
    {
      "cell_type": "code",
      "source": [
        "model = Sequential()\n",
        "model.add(Dense(12, input_shape=(8,), activation='relu'))\n",
        "model.add(Dense(8, activation='relu'))\n",
        "model.add(Dense(1, activation='sigmoid'))\n",
        "\n",
        "model.compile(loss='binary_crossentropy', optimizer='adam', metrics=['accuracy'])"
      ],
      "metadata": {
        "id": "MF9Y7uwkv8La"
      },
      "execution_count": 9,
      "outputs": []
    },
    {
      "cell_type": "code",
      "source": [
        "model.fit(x_train, y_train, epochs=150, batch_size=10, verbose=0)\n",
        "# evaluate the keras model\n",
        "# test DS\n",
        "#training error\n",
        "_, accuracy = model.evaluate(x_train, y_train, verbose=0)\n",
        "print('Accuracy: %.2f' % (accuracy*100))\n",
        "\n",
        "predictions = (model.predict(x_test) > 0.5).astype(int)\n",
        "\n",
        "# summarize the first 5 cases\n",
        "for i in range(5):\n",
        "\tprint('%s => %d (expected %d)' % (x_test[i].tolist(), predictions[i], y_test[i]))"
      ],
      "metadata": {
        "colab": {
          "base_uri": "https://localhost:8080/"
        },
        "id": "49QiuqqWwBGZ",
        "outputId": "6444d177-325a-4555-95ca-2fd756daad63"
      },
      "execution_count": 10,
      "outputs": [
        {
          "output_type": "stream",
          "name": "stdout",
          "text": [
            "Accuracy: 75.61\n",
            "8/8 [==============================] - 0s 2ms/step\n",
            "[0.04072683370647543, 0.026468013734211867, 0.030537300807401756, 0.04081093651464417, 0.030155216874819788, 0.034811354622936566, 0.005320730020922629, 0.047079059916829195] => 0 (expected 0)\n",
            "[0.03393902808872953, 0.037975845792564855, 0.039402968783744205, 0.02619100303991568, 0.019098179371178546, 0.029154509496709377, 0.011643009222254223, 0.07061858987524379] => 0 (expected 0)\n",
            "[0.020363416853237715, 0.030495754954635412, 0.03546267190536978, 0.02619100303991568, 0.019098179371178546, 0.028066654664742608, 0.012957542521540988, 0.02763336125553018] => 0 (expected 0)\n",
            "[0.027151222470983623, 0.02848188434442364, 0.033492523466182575, 0.048462987111139944, 0.019098179371178546, 0.03568163848850998, 0.009076539447456249, 0.03377410820120355] => 0 (expected 0)\n",
            "[0.027151222470983623, 0.027618796940047166, 0.02758207814862094, 0.021680810023404714, 0.011727028784652139, 0.02262738050490877, 0.021282920083690517, 0.026609903431251285] => 0 (expected 0)\n"
          ]
        }
      ]
    },
    {
      "cell_type": "code",
      "source": [
        "testX = np.copy(x_test)\n",
        "max = np.max(testX,axis=0)\n",
        "print(max)\n",
        "\n",
        "min = np.min(testX,axis=0)\n",
        "print(min)"
      ],
      "metadata": {
        "colab": {
          "base_uri": "https://localhost:8080/"
        },
        "id": "yhCcrXoX-Gac",
        "outputId": "d97f452c-6bbf-4570-d22f-4c6a78651e26"
      },
      "execution_count": 11,
      "outputs": [
        {
          "output_type": "stream",
          "name": "stdout",
          "text": [
            "[0.1153927  0.05696377 0.05319401 0.08034653 0.17805938 0.06461858\n",
            " 0.15148431 0.07061859]\n",
            "[0.00678781 0.01639866 0.02364178 0.01020273 0.00335058 0.0209956\n",
            " 0.00532073 0.02149261]\n"
          ]
        }
      ]
    },
    {
      "cell_type": "code",
      "source": [
        "# #pregnancies\n",
        "# X_preg_max = np.copy(testX)\n",
        "# for i in range(len(X)):\n",
        "#     X_preg_max[i][0] = max[0]\n",
        "# _, accuracy = model.evaluate(X_preg_max, y, verbose=0)\n",
        "# print('Accuracy: %.2f' % (accuracy*100))\n",
        "# predictions_preg_max = model.predict(X_preg_max) \n",
        "\n",
        "# # reshape = predictions_preg_max.reshape(1,-1)\n",
        "# # print(reshape)\n",
        "# for i in range(5):\n",
        "# \tprint('%s => %s (expected %d)' % (X_preg_max[i].tolist(), predictions_preg_max[i], y[i]))\n"
      ],
      "metadata": {
        "id": "C7yXQmZk1TZT"
      },
      "execution_count": 12,
      "outputs": []
    },
    {
      "cell_type": "code",
      "source": [
        "print(len(x_test))"
      ],
      "metadata": {
        "colab": {
          "base_uri": "https://localhost:8080/"
        },
        "id": "19GHji5cQO2M",
        "outputId": "7f844c77-0d94-4866-fabd-3ea5c97c7a1c"
      },
      "execution_count": 13,
      "outputs": [
        {
          "output_type": "stream",
          "name": "stdout",
          "text": [
            "231\n"
          ]
        }
      ]
    },
    {
      "cell_type": "markdown",
      "source": [
        "#Max Max - Min Min"
      ],
      "metadata": {
        "id": "vNfF4viMHi5R"
      }
    },
    {
      "cell_type": "code",
      "source": [
        "MaxMax = [[0 for x in range(28)] for y in range(len(x_test))]"
      ],
      "metadata": {
        "id": "frz1y8eBIVGY"
      },
      "execution_count": 14,
      "outputs": []
    },
    {
      "cell_type": "code",
      "source": [
        "prediction_max = []\n",
        "for i in range(len(x_test)):\n",
        "  row_index = 0\n",
        "  X_single= np.full((28,8),x_test[i])\n",
        "  for m in range(8):\n",
        "    for j in range(m+1,8):\n",
        "      X_single[row_index][m] = max[m]\n",
        "      X_single[row_index][j] = max[j]\n",
        "      row_index +=1\n",
        "  predictions_sub_max = model.predict(X_single).reshape((1,28))\n",
        "  # MaxMax[i] = predictions_sub_max\n",
        "  if len(prediction_max) == 0:\n",
        "      prediction_max = predictions_sub_max\n",
        "  else:\n",
        "      prediction_max = np.concatenate((prediction_max, predictions_sub_max), axis=1)\n",
        "\n",
        "\n",
        "\n"
      ],
      "metadata": {
        "colab": {
          "base_uri": "https://localhost:8080/"
        },
        "id": "xmQe4kh8IxPK",
        "outputId": "1d005450-991f-4a56-8d69-58bc7c82c884"
      },
      "execution_count": 15,
      "outputs": [
        {
          "output_type": "stream",
          "name": "stdout",
          "text": [
            "1/1 [==============================] - 0s 21ms/step\n",
            "1/1 [==============================] - 0s 16ms/step\n",
            "1/1 [==============================] - 0s 17ms/step\n",
            "1/1 [==============================] - 0s 17ms/step\n",
            "1/1 [==============================] - 0s 20ms/step\n",
            "1/1 [==============================] - 0s 16ms/step\n",
            "1/1 [==============================] - 0s 17ms/step\n",
            "1/1 [==============================] - 0s 16ms/step\n",
            "1/1 [==============================] - 0s 17ms/step\n",
            "1/1 [==============================] - 0s 23ms/step\n",
            "1/1 [==============================] - 0s 19ms/step\n",
            "1/1 [==============================] - 0s 17ms/step\n",
            "1/1 [==============================] - 0s 20ms/step\n",
            "1/1 [==============================] - 0s 16ms/step\n",
            "1/1 [==============================] - 0s 18ms/step\n",
            "1/1 [==============================] - 0s 17ms/step\n",
            "1/1 [==============================] - 0s 18ms/step\n",
            "1/1 [==============================] - 0s 18ms/step\n",
            "1/1 [==============================] - 0s 21ms/step\n",
            "1/1 [==============================] - 0s 16ms/step\n",
            "1/1 [==============================] - 0s 18ms/step\n",
            "1/1 [==============================] - 0s 17ms/step\n",
            "1/1 [==============================] - 0s 23ms/step\n",
            "1/1 [==============================] - 0s 19ms/step\n",
            "1/1 [==============================] - 0s 23ms/step\n",
            "1/1 [==============================] - 0s 17ms/step\n",
            "1/1 [==============================] - 0s 24ms/step\n",
            "1/1 [==============================] - 0s 19ms/step\n",
            "1/1 [==============================] - 0s 18ms/step\n",
            "1/1 [==============================] - 0s 25ms/step\n",
            "1/1 [==============================] - 0s 23ms/step\n",
            "1/1 [==============================] - 0s 16ms/step\n",
            "1/1 [==============================] - 0s 16ms/step\n",
            "1/1 [==============================] - 0s 30ms/step\n",
            "1/1 [==============================] - 0s 18ms/step\n",
            "1/1 [==============================] - 0s 18ms/step\n",
            "1/1 [==============================] - 0s 18ms/step\n",
            "1/1 [==============================] - 0s 18ms/step\n",
            "1/1 [==============================] - 0s 21ms/step\n",
            "1/1 [==============================] - 0s 19ms/step\n",
            "1/1 [==============================] - 0s 17ms/step\n",
            "1/1 [==============================] - 0s 17ms/step\n",
            "1/1 [==============================] - 0s 16ms/step\n",
            "1/1 [==============================] - 0s 17ms/step\n",
            "1/1 [==============================] - 0s 17ms/step\n",
            "1/1 [==============================] - 0s 23ms/step\n",
            "1/1 [==============================] - 0s 17ms/step\n",
            "1/1 [==============================] - 0s 18ms/step\n",
            "1/1 [==============================] - 0s 17ms/step\n",
            "1/1 [==============================] - 0s 21ms/step\n",
            "1/1 [==============================] - 0s 18ms/step\n",
            "1/1 [==============================] - 0s 21ms/step\n",
            "1/1 [==============================] - 0s 22ms/step\n",
            "1/1 [==============================] - 0s 18ms/step\n",
            "1/1 [==============================] - 0s 18ms/step\n",
            "1/1 [==============================] - 0s 18ms/step\n",
            "1/1 [==============================] - 0s 17ms/step\n",
            "1/1 [==============================] - 0s 24ms/step\n",
            "1/1 [==============================] - 0s 17ms/step\n",
            "1/1 [==============================] - 0s 17ms/step\n",
            "1/1 [==============================] - 0s 17ms/step\n",
            "1/1 [==============================] - 0s 17ms/step\n",
            "1/1 [==============================] - 0s 24ms/step\n",
            "1/1 [==============================] - 0s 21ms/step\n",
            "1/1 [==============================] - 0s 18ms/step\n",
            "1/1 [==============================] - 0s 16ms/step\n",
            "1/1 [==============================] - 0s 21ms/step\n",
            "1/1 [==============================] - 0s 16ms/step\n",
            "1/1 [==============================] - 0s 19ms/step\n",
            "1/1 [==============================] - 0s 18ms/step\n",
            "1/1 [==============================] - 0s 23ms/step\n",
            "1/1 [==============================] - 0s 22ms/step\n",
            "1/1 [==============================] - 0s 19ms/step\n",
            "1/1 [==============================] - 0s 17ms/step\n",
            "1/1 [==============================] - 0s 19ms/step\n",
            "1/1 [==============================] - 0s 18ms/step\n",
            "1/1 [==============================] - 0s 17ms/step\n",
            "1/1 [==============================] - 0s 17ms/step\n",
            "1/1 [==============================] - 0s 18ms/step\n",
            "1/1 [==============================] - 0s 20ms/step\n",
            "1/1 [==============================] - 0s 17ms/step\n",
            "1/1 [==============================] - 0s 19ms/step\n",
            "1/1 [==============================] - 0s 20ms/step\n",
            "1/1 [==============================] - 0s 30ms/step\n",
            "1/1 [==============================] - 0s 28ms/step\n",
            "1/1 [==============================] - 0s 20ms/step\n",
            "1/1 [==============================] - 0s 17ms/step\n",
            "1/1 [==============================] - 0s 17ms/step\n",
            "1/1 [==============================] - 0s 18ms/step\n",
            "1/1 [==============================] - 0s 17ms/step\n",
            "1/1 [==============================] - 0s 18ms/step\n",
            "1/1 [==============================] - 0s 18ms/step\n",
            "1/1 [==============================] - 0s 17ms/step\n",
            "1/1 [==============================] - 0s 26ms/step\n",
            "1/1 [==============================] - 0s 33ms/step\n",
            "1/1 [==============================] - 0s 26ms/step\n",
            "1/1 [==============================] - 0s 43ms/step\n",
            "1/1 [==============================] - 0s 31ms/step\n",
            "1/1 [==============================] - 0s 31ms/step\n",
            "1/1 [==============================] - 0s 25ms/step\n",
            "1/1 [==============================] - 0s 24ms/step\n",
            "1/1 [==============================] - 0s 28ms/step\n",
            "1/1 [==============================] - 0s 25ms/step\n",
            "1/1 [==============================] - 0s 25ms/step\n",
            "1/1 [==============================] - 0s 24ms/step\n",
            "1/1 [==============================] - 0s 24ms/step\n",
            "1/1 [==============================] - 0s 24ms/step\n",
            "1/1 [==============================] - 0s 26ms/step\n",
            "1/1 [==============================] - 0s 24ms/step\n",
            "1/1 [==============================] - 0s 24ms/step\n",
            "1/1 [==============================] - 0s 27ms/step\n",
            "1/1 [==============================] - 0s 23ms/step\n",
            "1/1 [==============================] - 0s 28ms/step\n",
            "1/1 [==============================] - 0s 42ms/step\n",
            "1/1 [==============================] - 0s 24ms/step\n",
            "1/1 [==============================] - 0s 24ms/step\n",
            "1/1 [==============================] - 0s 31ms/step\n",
            "1/1 [==============================] - 0s 25ms/step\n",
            "1/1 [==============================] - 0s 28ms/step\n",
            "1/1 [==============================] - 0s 25ms/step\n",
            "1/1 [==============================] - 0s 31ms/step\n",
            "1/1 [==============================] - 0s 28ms/step\n",
            "1/1 [==============================] - 0s 25ms/step\n",
            "1/1 [==============================] - 0s 30ms/step\n",
            "1/1 [==============================] - 0s 27ms/step\n",
            "1/1 [==============================] - 0s 25ms/step\n",
            "1/1 [==============================] - 0s 28ms/step\n",
            "1/1 [==============================] - 0s 20ms/step\n",
            "1/1 [==============================] - 0s 18ms/step\n",
            "1/1 [==============================] - 0s 17ms/step\n",
            "1/1 [==============================] - 0s 18ms/step\n",
            "1/1 [==============================] - 0s 17ms/step\n",
            "1/1 [==============================] - 0s 17ms/step\n",
            "1/1 [==============================] - 0s 17ms/step\n",
            "1/1 [==============================] - 0s 22ms/step\n",
            "1/1 [==============================] - 0s 18ms/step\n",
            "1/1 [==============================] - 0s 16ms/step\n",
            "1/1 [==============================] - 0s 18ms/step\n",
            "1/1 [==============================] - 0s 20ms/step\n",
            "1/1 [==============================] - 0s 23ms/step\n",
            "1/1 [==============================] - 0s 19ms/step\n",
            "1/1 [==============================] - 0s 18ms/step\n",
            "1/1 [==============================] - 0s 16ms/step\n",
            "1/1 [==============================] - 0s 16ms/step\n",
            "1/1 [==============================] - 0s 17ms/step\n",
            "1/1 [==============================] - 0s 23ms/step\n",
            "1/1 [==============================] - 0s 16ms/step\n",
            "1/1 [==============================] - 0s 17ms/step\n",
            "1/1 [==============================] - 0s 26ms/step\n",
            "1/1 [==============================] - 0s 17ms/step\n",
            "1/1 [==============================] - 0s 19ms/step\n",
            "1/1 [==============================] - 0s 20ms/step\n",
            "1/1 [==============================] - 0s 20ms/step\n",
            "1/1 [==============================] - 0s 18ms/step\n",
            "1/1 [==============================] - 0s 17ms/step\n",
            "1/1 [==============================] - 0s 18ms/step\n",
            "1/1 [==============================] - 0s 17ms/step\n",
            "1/1 [==============================] - 0s 22ms/step\n",
            "1/1 [==============================] - 0s 24ms/step\n",
            "1/1 [==============================] - 0s 17ms/step\n",
            "1/1 [==============================] - 0s 27ms/step\n",
            "1/1 [==============================] - 0s 19ms/step\n",
            "1/1 [==============================] - 0s 18ms/step\n",
            "1/1 [==============================] - 0s 18ms/step\n",
            "1/1 [==============================] - 0s 18ms/step\n",
            "1/1 [==============================] - 0s 21ms/step\n",
            "1/1 [==============================] - 0s 21ms/step\n",
            "1/1 [==============================] - 0s 18ms/step\n",
            "1/1 [==============================] - 0s 19ms/step\n",
            "1/1 [==============================] - 0s 19ms/step\n",
            "1/1 [==============================] - 0s 24ms/step\n",
            "1/1 [==============================] - 0s 18ms/step\n",
            "1/1 [==============================] - 0s 18ms/step\n",
            "1/1 [==============================] - 0s 17ms/step\n",
            "1/1 [==============================] - 0s 17ms/step\n",
            "1/1 [==============================] - 0s 17ms/step\n",
            "1/1 [==============================] - 0s 19ms/step\n",
            "1/1 [==============================] - 0s 18ms/step\n",
            "1/1 [==============================] - 0s 18ms/step\n",
            "1/1 [==============================] - 0s 24ms/step\n",
            "1/1 [==============================] - 0s 20ms/step\n",
            "1/1 [==============================] - 0s 18ms/step\n",
            "1/1 [==============================] - 0s 19ms/step\n",
            "1/1 [==============================] - 0s 29ms/step\n",
            "1/1 [==============================] - 0s 18ms/step\n",
            "1/1 [==============================] - 0s 18ms/step\n",
            "1/1 [==============================] - 0s 18ms/step\n",
            "1/1 [==============================] - 0s 23ms/step\n",
            "1/1 [==============================] - 0s 21ms/step\n",
            "1/1 [==============================] - 0s 21ms/step\n",
            "1/1 [==============================] - 0s 19ms/step\n",
            "1/1 [==============================] - 0s 17ms/step\n",
            "1/1 [==============================] - 0s 17ms/step\n",
            "1/1 [==============================] - 0s 18ms/step\n",
            "1/1 [==============================] - 0s 16ms/step\n",
            "1/1 [==============================] - 0s 17ms/step\n",
            "1/1 [==============================] - 0s 23ms/step\n",
            "1/1 [==============================] - 0s 20ms/step\n",
            "1/1 [==============================] - 0s 18ms/step\n",
            "1/1 [==============================] - 0s 18ms/step\n",
            "1/1 [==============================] - 0s 18ms/step\n",
            "1/1 [==============================] - 0s 18ms/step\n",
            "1/1 [==============================] - 0s 18ms/step\n",
            "1/1 [==============================] - 0s 16ms/step\n",
            "1/1 [==============================] - 0s 17ms/step\n",
            "1/1 [==============================] - 0s 18ms/step\n",
            "1/1 [==============================] - 0s 16ms/step\n",
            "1/1 [==============================] - 0s 17ms/step\n",
            "1/1 [==============================] - 0s 17ms/step\n",
            "1/1 [==============================] - 0s 17ms/step\n",
            "1/1 [==============================] - 0s 18ms/step\n",
            "1/1 [==============================] - 0s 17ms/step\n",
            "1/1 [==============================] - 0s 17ms/step\n",
            "1/1 [==============================] - 0s 17ms/step\n",
            "1/1 [==============================] - 0s 18ms/step\n",
            "1/1 [==============================] - 0s 17ms/step\n",
            "1/1 [==============================] - 0s 17ms/step\n",
            "1/1 [==============================] - 0s 17ms/step\n",
            "1/1 [==============================] - 0s 17ms/step\n",
            "1/1 [==============================] - 0s 18ms/step\n",
            "1/1 [==============================] - 0s 18ms/step\n",
            "1/1 [==============================] - 0s 22ms/step\n",
            "1/1 [==============================] - 0s 26ms/step\n",
            "1/1 [==============================] - 0s 17ms/step\n",
            "1/1 [==============================] - 0s 18ms/step\n",
            "1/1 [==============================] - 0s 19ms/step\n",
            "1/1 [==============================] - 0s 21ms/step\n",
            "1/1 [==============================] - 0s 19ms/step\n",
            "1/1 [==============================] - 0s 19ms/step\n",
            "1/1 [==============================] - 0s 18ms/step\n",
            "1/1 [==============================] - 0s 19ms/step\n"
          ]
        }
      ]
    },
    {
      "cell_type": "code",
      "source": [
        "# MaxMax = np.array(MaxMax)\n",
        "# print(MaxMax)\n",
        "prediction_max = prediction_max.reshape((231,28))\n",
        "print(prediction_max)\n",
        "\n"
      ],
      "metadata": {
        "colab": {
          "base_uri": "https://localhost:8080/"
        },
        "id": "RPcQDssJQC7t",
        "outputId": "0eb4ccfd-6904-48c7-a7b0-5f80868c24cc"
      },
      "execution_count": 16,
      "outputs": [
        {
          "output_type": "stream",
          "name": "stdout",
          "text": [
            "[[0.93466485 0.5352729  0.6178443  ... 0.90170544 0.6307976  0.8171712 ]\n",
            " [0.9425934  0.7843004  0.86284065 ... 0.96452934 0.79790235 0.8665001 ]\n",
            " [0.8693318  0.4383878  0.5294056  ... 0.8399542  0.60874134 0.74404556]\n",
            " ...\n",
            " [0.8318431  0.40637046 0.5220372  ... 0.74961144 0.5719857  0.59988916]\n",
            " [0.8901616  0.3763557  0.456757   ... 0.7862735  0.5334103  0.68906486]\n",
            " [0.96644187 0.9108002  0.9315271  ... 0.95111835 0.9254372  0.95739233]]\n"
          ]
        }
      ]
    },
    {
      "cell_type": "code",
      "source": [
        "prediction_min = []\n",
        "for i in range(len(x_test)):\n",
        "  row_index = 0\n",
        "  X_single= np.full((28,8),x_test[i])\n",
        "  for m in range(8):\n",
        "    for j in range(m+1,8):\n",
        "      X_single[row_index][m] = min[m]\n",
        "      X_single[row_index][j] = min[j]\n",
        "      row_index +=1\n",
        "  predictions_sub_min = model.predict(X_single).reshape((1,28))\n",
        "  # MaxMax[i] = predictions_sub_max\n",
        "  if len(prediction_min) == 0:\n",
        "      prediction_min = predictions_sub_min\n",
        "  else:\n",
        "      prediction_min = np.concatenate((prediction_min, predictions_sub_min), axis=1)"
      ],
      "metadata": {
        "colab": {
          "base_uri": "https://localhost:8080/"
        },
        "id": "jhgt-yF6RNw7",
        "outputId": "a53f6c81-7af1-43ff-beef-1b202ccbda0a"
      },
      "execution_count": 17,
      "outputs": [
        {
          "output_type": "stream",
          "name": "stdout",
          "text": [
            "1/1 [==============================] - 0s 21ms/step\n",
            "1/1 [==============================] - 0s 20ms/step\n",
            "1/1 [==============================] - 0s 22ms/step\n",
            "1/1 [==============================] - 0s 17ms/step\n",
            "1/1 [==============================] - 0s 18ms/step\n",
            "1/1 [==============================] - 0s 17ms/step\n",
            "1/1 [==============================] - 0s 27ms/step\n",
            "1/1 [==============================] - 0s 27ms/step\n",
            "1/1 [==============================] - 0s 18ms/step\n",
            "1/1 [==============================] - 0s 26ms/step\n",
            "1/1 [==============================] - 0s 17ms/step\n",
            "1/1 [==============================] - 0s 17ms/step\n",
            "1/1 [==============================] - 0s 18ms/step\n",
            "1/1 [==============================] - 0s 20ms/step\n",
            "1/1 [==============================] - 0s 19ms/step\n",
            "1/1 [==============================] - 0s 19ms/step\n",
            "1/1 [==============================] - 0s 23ms/step\n",
            "1/1 [==============================] - 0s 17ms/step\n",
            "1/1 [==============================] - 0s 17ms/step\n",
            "1/1 [==============================] - 0s 22ms/step\n",
            "1/1 [==============================] - 0s 18ms/step\n",
            "1/1 [==============================] - 0s 18ms/step\n",
            "1/1 [==============================] - 0s 19ms/step\n",
            "1/1 [==============================] - 0s 17ms/step\n",
            "1/1 [==============================] - 0s 23ms/step\n",
            "1/1 [==============================] - 0s 18ms/step\n",
            "1/1 [==============================] - 0s 26ms/step\n",
            "1/1 [==============================] - 0s 17ms/step\n",
            "1/1 [==============================] - 0s 18ms/step\n",
            "1/1 [==============================] - 0s 17ms/step\n",
            "1/1 [==============================] - 0s 18ms/step\n",
            "1/1 [==============================] - 0s 19ms/step\n",
            "1/1 [==============================] - 0s 17ms/step\n",
            "1/1 [==============================] - 0s 21ms/step\n",
            "1/1 [==============================] - 0s 19ms/step\n",
            "1/1 [==============================] - 0s 18ms/step\n",
            "1/1 [==============================] - 0s 19ms/step\n",
            "1/1 [==============================] - 0s 18ms/step\n",
            "1/1 [==============================] - 0s 19ms/step\n",
            "1/1 [==============================] - 0s 18ms/step\n",
            "1/1 [==============================] - 0s 18ms/step\n",
            "1/1 [==============================] - 0s 18ms/step\n",
            "1/1 [==============================] - 0s 18ms/step\n",
            "1/1 [==============================] - 0s 25ms/step\n",
            "1/1 [==============================] - 0s 17ms/step\n",
            "1/1 [==============================] - 0s 17ms/step\n",
            "1/1 [==============================] - 0s 20ms/step\n",
            "1/1 [==============================] - 0s 21ms/step\n",
            "1/1 [==============================] - 0s 17ms/step\n",
            "1/1 [==============================] - 0s 21ms/step\n",
            "1/1 [==============================] - 0s 18ms/step\n",
            "1/1 [==============================] - 0s 19ms/step\n",
            "1/1 [==============================] - 0s 17ms/step\n",
            "1/1 [==============================] - 0s 18ms/step\n",
            "1/1 [==============================] - 0s 17ms/step\n",
            "1/1 [==============================] - 0s 23ms/step\n",
            "1/1 [==============================] - 0s 22ms/step\n",
            "1/1 [==============================] - 0s 20ms/step\n",
            "1/1 [==============================] - 0s 17ms/step\n",
            "1/1 [==============================] - 0s 34ms/step\n",
            "1/1 [==============================] - 0s 23ms/step\n",
            "1/1 [==============================] - 0s 18ms/step\n",
            "1/1 [==============================] - 0s 20ms/step\n",
            "1/1 [==============================] - 0s 19ms/step\n",
            "1/1 [==============================] - 0s 23ms/step\n",
            "1/1 [==============================] - 0s 24ms/step\n",
            "1/1 [==============================] - 0s 20ms/step\n",
            "1/1 [==============================] - 0s 22ms/step\n",
            "1/1 [==============================] - 0s 17ms/step\n",
            "1/1 [==============================] - 0s 19ms/step\n",
            "1/1 [==============================] - 0s 16ms/step\n",
            "1/1 [==============================] - 0s 18ms/step\n",
            "1/1 [==============================] - 0s 17ms/step\n",
            "1/1 [==============================] - 0s 18ms/step\n",
            "1/1 [==============================] - 0s 17ms/step\n",
            "1/1 [==============================] - 0s 18ms/step\n",
            "1/1 [==============================] - 0s 19ms/step\n",
            "1/1 [==============================] - 0s 17ms/step\n",
            "1/1 [==============================] - 0s 17ms/step\n",
            "1/1 [==============================] - 0s 17ms/step\n",
            "1/1 [==============================] - 0s 19ms/step\n",
            "1/1 [==============================] - 0s 20ms/step\n",
            "1/1 [==============================] - 0s 18ms/step\n",
            "1/1 [==============================] - 0s 17ms/step\n",
            "1/1 [==============================] - 0s 18ms/step\n",
            "1/1 [==============================] - 0s 17ms/step\n",
            "1/1 [==============================] - 0s 17ms/step\n",
            "1/1 [==============================] - 0s 25ms/step\n",
            "1/1 [==============================] - 0s 18ms/step\n",
            "1/1 [==============================] - 0s 23ms/step\n",
            "1/1 [==============================] - 0s 18ms/step\n",
            "1/1 [==============================] - 0s 30ms/step\n",
            "1/1 [==============================] - 0s 17ms/step\n",
            "1/1 [==============================] - 0s 21ms/step\n",
            "1/1 [==============================] - 0s 17ms/step\n",
            "1/1 [==============================] - 0s 17ms/step\n",
            "1/1 [==============================] - 0s 19ms/step\n",
            "1/1 [==============================] - 0s 17ms/step\n",
            "1/1 [==============================] - 0s 18ms/step\n",
            "1/1 [==============================] - 0s 22ms/step\n",
            "1/1 [==============================] - 0s 20ms/step\n",
            "1/1 [==============================] - 0s 30ms/step\n",
            "1/1 [==============================] - 0s 18ms/step\n",
            "1/1 [==============================] - 0s 18ms/step\n",
            "1/1 [==============================] - 0s 19ms/step\n",
            "1/1 [==============================] - 0s 18ms/step\n",
            "1/1 [==============================] - 0s 18ms/step\n",
            "1/1 [==============================] - 0s 17ms/step\n",
            "1/1 [==============================] - 0s 22ms/step\n",
            "1/1 [==============================] - 0s 17ms/step\n",
            "1/1 [==============================] - 0s 43ms/step\n",
            "1/1 [==============================] - 0s 18ms/step\n",
            "1/1 [==============================] - 0s 20ms/step\n",
            "1/1 [==============================] - 0s 19ms/step\n",
            "1/1 [==============================] - 0s 19ms/step\n",
            "1/1 [==============================] - 0s 21ms/step\n",
            "1/1 [==============================] - 0s 20ms/step\n",
            "1/1 [==============================] - 0s 20ms/step\n",
            "1/1 [==============================] - 0s 20ms/step\n",
            "1/1 [==============================] - 0s 21ms/step\n",
            "1/1 [==============================] - 0s 19ms/step\n",
            "1/1 [==============================] - 0s 21ms/step\n",
            "1/1 [==============================] - 0s 17ms/step\n",
            "1/1 [==============================] - 0s 17ms/step\n",
            "1/1 [==============================] - 0s 18ms/step\n",
            "1/1 [==============================] - 0s 21ms/step\n",
            "1/1 [==============================] - 0s 22ms/step\n",
            "1/1 [==============================] - 0s 17ms/step\n",
            "1/1 [==============================] - 0s 17ms/step\n",
            "1/1 [==============================] - 0s 17ms/step\n",
            "1/1 [==============================] - 0s 17ms/step\n",
            "1/1 [==============================] - 0s 21ms/step\n",
            "1/1 [==============================] - 0s 17ms/step\n",
            "1/1 [==============================] - 0s 17ms/step\n",
            "1/1 [==============================] - 0s 16ms/step\n",
            "1/1 [==============================] - 0s 22ms/step\n",
            "1/1 [==============================] - 0s 21ms/step\n",
            "1/1 [==============================] - 0s 20ms/step\n",
            "1/1 [==============================] - 0s 23ms/step\n",
            "1/1 [==============================] - 0s 19ms/step\n",
            "1/1 [==============================] - 0s 20ms/step\n",
            "1/1 [==============================] - 0s 19ms/step\n",
            "1/1 [==============================] - 0s 19ms/step\n",
            "1/1 [==============================] - 0s 17ms/step\n",
            "1/1 [==============================] - 0s 17ms/step\n",
            "1/1 [==============================] - 0s 17ms/step\n",
            "1/1 [==============================] - 0s 18ms/step\n",
            "1/1 [==============================] - 0s 19ms/step\n",
            "1/1 [==============================] - 0s 17ms/step\n",
            "1/1 [==============================] - 0s 17ms/step\n",
            "1/1 [==============================] - 0s 17ms/step\n",
            "1/1 [==============================] - 0s 17ms/step\n",
            "1/1 [==============================] - 0s 21ms/step\n",
            "1/1 [==============================] - 0s 17ms/step\n",
            "1/1 [==============================] - 0s 17ms/step\n",
            "1/1 [==============================] - 0s 22ms/step\n",
            "1/1 [==============================] - 0s 19ms/step\n",
            "1/1 [==============================] - 0s 17ms/step\n",
            "1/1 [==============================] - 0s 19ms/step\n",
            "1/1 [==============================] - 0s 17ms/step\n",
            "1/1 [==============================] - 0s 18ms/step\n",
            "1/1 [==============================] - 0s 17ms/step\n",
            "1/1 [==============================] - 0s 18ms/step\n",
            "1/1 [==============================] - 0s 17ms/step\n",
            "1/1 [==============================] - 0s 19ms/step\n",
            "1/1 [==============================] - 0s 19ms/step\n",
            "1/1 [==============================] - 0s 19ms/step\n",
            "1/1 [==============================] - 0s 22ms/step\n",
            "1/1 [==============================] - 0s 19ms/step\n",
            "1/1 [==============================] - 0s 18ms/step\n",
            "1/1 [==============================] - 0s 18ms/step\n",
            "1/1 [==============================] - 0s 18ms/step\n",
            "1/1 [==============================] - 0s 18ms/step\n",
            "1/1 [==============================] - 0s 18ms/step\n",
            "1/1 [==============================] - 0s 18ms/step\n",
            "1/1 [==============================] - 0s 34ms/step\n",
            "1/1 [==============================] - 0s 28ms/step\n",
            "1/1 [==============================] - 0s 19ms/step\n",
            "1/1 [==============================] - 0s 19ms/step\n",
            "1/1 [==============================] - 0s 18ms/step\n",
            "1/1 [==============================] - 0s 24ms/step\n",
            "1/1 [==============================] - 0s 19ms/step\n",
            "1/1 [==============================] - 0s 20ms/step\n",
            "1/1 [==============================] - 0s 23ms/step\n",
            "1/1 [==============================] - 0s 19ms/step\n",
            "1/1 [==============================] - 0s 18ms/step\n",
            "1/1 [==============================] - 0s 17ms/step\n",
            "1/1 [==============================] - 0s 17ms/step\n",
            "1/1 [==============================] - 0s 18ms/step\n",
            "1/1 [==============================] - 0s 19ms/step\n",
            "1/1 [==============================] - 0s 22ms/step\n",
            "1/1 [==============================] - 0s 25ms/step\n",
            "1/1 [==============================] - 0s 25ms/step\n",
            "1/1 [==============================] - 0s 19ms/step\n",
            "1/1 [==============================] - 0s 18ms/step\n",
            "1/1 [==============================] - 0s 17ms/step\n",
            "1/1 [==============================] - 0s 18ms/step\n",
            "1/1 [==============================] - 0s 17ms/step\n",
            "1/1 [==============================] - 0s 20ms/step\n",
            "1/1 [==============================] - 0s 21ms/step\n",
            "1/1 [==============================] - 0s 19ms/step\n",
            "1/1 [==============================] - 0s 27ms/step\n",
            "1/1 [==============================] - 0s 18ms/step\n",
            "1/1 [==============================] - 0s 17ms/step\n",
            "1/1 [==============================] - 0s 17ms/step\n",
            "1/1 [==============================] - 0s 18ms/step\n",
            "1/1 [==============================] - 0s 20ms/step\n",
            "1/1 [==============================] - 0s 18ms/step\n",
            "1/1 [==============================] - 0s 17ms/step\n",
            "1/1 [==============================] - 0s 24ms/step\n",
            "1/1 [==============================] - 0s 18ms/step\n",
            "1/1 [==============================] - 0s 20ms/step\n",
            "1/1 [==============================] - 0s 19ms/step\n",
            "1/1 [==============================] - 0s 20ms/step\n",
            "1/1 [==============================] - 0s 16ms/step\n",
            "1/1 [==============================] - 0s 19ms/step\n",
            "1/1 [==============================] - 0s 20ms/step\n",
            "1/1 [==============================] - 0s 21ms/step\n",
            "1/1 [==============================] - 0s 20ms/step\n",
            "1/1 [==============================] - 0s 18ms/step\n",
            "1/1 [==============================] - 0s 18ms/step\n",
            "1/1 [==============================] - 0s 22ms/step\n",
            "1/1 [==============================] - 0s 18ms/step\n",
            "1/1 [==============================] - 0s 18ms/step\n",
            "1/1 [==============================] - 0s 17ms/step\n",
            "1/1 [==============================] - 0s 18ms/step\n",
            "1/1 [==============================] - 0s 22ms/step\n",
            "1/1 [==============================] - 0s 18ms/step\n",
            "1/1 [==============================] - 0s 19ms/step\n",
            "1/1 [==============================] - 0s 18ms/step\n",
            "1/1 [==============================] - 0s 17ms/step\n"
          ]
        }
      ]
    },
    {
      "cell_type": "code",
      "source": [
        "prediction_min = prediction_min.reshape((231,28))\n",
        "print(prediction_min)"
      ],
      "metadata": {
        "colab": {
          "base_uri": "https://localhost:8080/"
        },
        "id": "ERvdLMI4Sy_0",
        "outputId": "7f887f69-a69a-48ac-ffe6-8569244b4cc2"
      },
      "execution_count": 18,
      "outputs": [
        {
          "output_type": "stream",
          "name": "stdout",
          "text": [
            "[[0.05336861 0.11210328 0.08977874 ... 0.12093974 0.0652998  0.11296153]\n",
            " [0.07402321 0.328435   0.2976397  ... 0.3471836  0.1389974  0.17107667]\n",
            " [0.04298603 0.07209755 0.06329772 ... 0.06158353 0.05981316 0.07049225]\n",
            " ...\n",
            " [0.042942   0.05414823 0.05186502 ... 0.04560738 0.05181252 0.04542572]\n",
            " [0.04497639 0.05273052 0.04963112 ... 0.0476204  0.04825542 0.052175  ]\n",
            " [0.11983182 0.59834415 0.50855994 ... 0.23851542 0.3373285  0.42052847]]\n"
          ]
        }
      ]
    },
    {
      "cell_type": "code",
      "source": [
        "# prediction_max = []\n",
        "# col_index = 0\n",
        "# for j in range(8):\n",
        "#     col_index += 1\n",
        "#     X_max = np.copy(x_test)\n",
        "#     for i in range(len(x_test)):\n",
        "#       X_max[i][j] = max[j]\n",
        "#     _, accuracy = model.evaluate(X_max, y_test, verbose=0)\n",
        "#     predictions_sub_max = model.predict(X_max) \n",
        "#     if len(prediction_max) == 0:\n",
        "#       prediction_max = predictions_sub_max\n",
        "#     else:\n",
        "#       prediction_max = np.concatenate((prediction_max, predictions_sub_max), axis=1)\n",
        "# print(prediction_max)\n"
      ],
      "metadata": {
        "id": "ys84h-5SKsBL"
      },
      "execution_count": 19,
      "outputs": []
    },
    {
      "cell_type": "code",
      "source": [
        "# min = X.min()\n",
        "# #save a copy\n",
        "# X_preg_min = testX\n",
        "# for i in range(len(X)):\n",
        "#     X_preg_min.iloc[i][1] = min[0]\n",
        "# _, accuracy = model.evaluate(X_preg_min, y, verbose=0)\n",
        "# predictions_preg_min = model.predict(X_preg_min) \n",
        "# for i in range(5):\n",
        "# \tprint('%s => %s (expected %d)' % (X_preg_min.iloc[i].tolist(), predictions_preg_min[i], y.iloc[i]))\n"
      ],
      "metadata": {
        "id": "RtjwT1sY7b9h"
      },
      "execution_count": 20,
      "outputs": []
    },
    {
      "cell_type": "code",
      "source": [
        "# prediction_min = []\n",
        "# for j in range(8):\n",
        "#   X_min = np.copy(x_test)\n",
        "#   for i in range(len(x_test)):\n",
        "#     X_min[i][j] = min[j]\n",
        "#   _, accuracy = model.evaluate(X_min, y_test, verbose=0)\n",
        "#   predictions_sub_min = model.predict(X_min) \n",
        "#   if len(prediction_min) == 0:\n",
        "#     prediction_min = predictions_sub_min\n",
        "#   else:\n",
        "#     prediction_min = np.concatenate((prediction_min, predictions_sub_min), axis=1)\n",
        "# print(prediction_min)\n"
      ],
      "metadata": {
        "id": "6AJG2egdRhHM"
      },
      "execution_count": 21,
      "outputs": []
    },
    {
      "cell_type": "code",
      "source": [
        "#pregreant difference\n",
        "result = np.subtract(prediction_max, prediction_min)\n",
        "print(result.shape)"
      ],
      "metadata": {
        "colab": {
          "base_uri": "https://localhost:8080/"
        },
        "id": "P9DQhFrpIFNu",
        "outputId": "230aceab-3d70-4b69-cb90-0e9165e9647b"
      },
      "execution_count": 22,
      "outputs": [
        {
          "output_type": "stream",
          "name": "stdout",
          "text": [
            "(231, 28)\n"
          ]
        }
      ]
    },
    {
      "cell_type": "code",
      "source": [
        "# heatmap_diff = pd.DataFrame(result, columns = ['Column_A','Column_B','Column_C'])\n",
        "# heatmap_diff = pd.DataFrame(result, columns = [data.columns[0:8]])\n",
        "heatmap_diff = pd.DataFrame(result)\n",
        "print(heatmap_diff.describe().T)\n"
      ],
      "metadata": {
        "colab": {
          "base_uri": "https://localhost:8080/"
        },
        "id": "VEmKcoPYI5Vh",
        "outputId": "80ae6ef9-1fdc-4b9b-d029-514fb6b5c96d"
      },
      "execution_count": 43,
      "outputs": [
        {
          "output_type": "stream",
          "name": "stdout",
          "text": [
            "    count      mean       std       min       25%       50%       75%  \\\n",
            "0   231.0  0.852840  0.051101  0.385488  0.843874  0.867373  0.878361   \n",
            "1   231.0  0.393993  0.096113  0.020757  0.343319  0.427129  0.467786   \n",
            "2   231.0  0.495719  0.111875  0.047353  0.435592  0.528095  0.580612   \n",
            "3   231.0  0.500010  0.113702  0.024671  0.450467  0.537590  0.583229   \n",
            "4   231.0  0.679957  0.117903  0.076014  0.654201  0.720767  0.755922   \n",
            "5   231.0  0.690906  0.134871  0.233796  0.653297  0.755705  0.778890   \n",
            "6   231.0  0.588378  0.119362  0.027801  0.552531  0.629165  0.664330   \n",
            "7   231.0  0.618724  0.108307  0.281750  0.564032  0.662218  0.703467   \n",
            "8   231.0  0.701129  0.091990  0.414866  0.650971  0.740068  0.772279   \n",
            "9   231.0  0.727117  0.081325  0.291187  0.683008  0.762261  0.786611   \n",
            "10  231.0  0.833579  0.050290  0.558308  0.811326  0.850036  0.868955   \n",
            "11  231.0  0.862162  0.039986  0.548042  0.843514  0.874741  0.888407   \n",
            "12  231.0  0.790713  0.068243  0.316830  0.769120  0.815742  0.833913   \n",
            "13  231.0  0.089085  0.035863  0.000783  0.058838  0.092732  0.122896   \n",
            "14  231.0  0.138954  0.043254  0.007480  0.109806  0.151764  0.170487   \n",
            "15  231.0  0.324809  0.098099  0.047604  0.260448  0.348938  0.414409   \n",
            "16  231.0  0.420391  0.112713  0.065939  0.343668  0.464551  0.515347   \n",
            "17  231.0  0.222152  0.074021  0.013731  0.166414  0.240017  0.288360   \n",
            "18  231.0  0.250007  0.069687  0.028491  0.205218  0.268059  0.307265   \n",
            "19  231.0  0.426883  0.111190  0.077658  0.350516  0.460155  0.528286   \n",
            "20  231.0  0.516036  0.127014  0.109048  0.433310  0.561233  0.625821   \n",
            "21  231.0  0.329574  0.094988  0.036110  0.261513  0.356570  0.415126   \n",
            "22  231.0  0.460066  0.111543  0.087642  0.379976  0.488229  0.552556   \n",
            "23  231.0  0.520514  0.127971  0.080489  0.473533  0.565427  0.619885   \n",
            "24  231.0  0.410494  0.099223  0.018525  0.367530  0.441581  0.484814   \n",
            "25  231.0  0.687083  0.127228  0.186036  0.652102  0.738994  0.779071   \n",
            "26  231.0  0.559801  0.108832  0.069005  0.507413  0.591471  0.643380   \n",
            "27  231.0  0.606287  0.125026  0.127774  0.554615  0.657833  0.694007   \n",
            "\n",
            "         max  \n",
            "0   0.890590  \n",
            "1   0.502180  \n",
            "2   0.606180  \n",
            "3   0.617541  \n",
            "4   0.775377  \n",
            "5   0.801635  \n",
            "6   0.693093  \n",
            "7   0.721252  \n",
            "8   0.784975  \n",
            "9   0.799740  \n",
            "10  0.883124  \n",
            "11  0.904500  \n",
            "12  0.846153  \n",
            "13  0.133310  \n",
            "14  0.226450  \n",
            "15  0.436243  \n",
            "16  0.549003  \n",
            "17  0.308025  \n",
            "18  0.362455  \n",
            "19  0.547566  \n",
            "20  0.647215  \n",
            "21  0.435199  \n",
            "22  0.574857  \n",
            "23  0.664606  \n",
            "24  0.518062  \n",
            "25  0.801103  \n",
            "26  0.663600  \n",
            "27  0.731667  \n"
          ]
        }
      ]
    },
    {
      "cell_type": "code",
      "source": [
        "test_heat = heatmap_diff.iloc[0:5,:]\n",
        "print(test_heat)"
      ],
      "metadata": {
        "colab": {
          "base_uri": "https://localhost:8080/"
        },
        "id": "CsmFQ11XT4Nx",
        "outputId": "31348a5f-647f-4292-ec05-e23c74208db8"
      },
      "execution_count": 24,
      "outputs": [
        {
          "output_type": "stream",
          "name": "stdout",
          "text": [
            "         0         1         2         3         4         5         6   \\\n",
            "0  0.881296  0.423170  0.528066  0.577611  0.738740  0.776317  0.627010   \n",
            "1  0.868570  0.455865  0.565201  0.547782  0.687831  0.651344  0.674439   \n",
            "2  0.826346  0.366290  0.466108  0.512832  0.727488  0.788997  0.613546   \n",
            "3  0.879258  0.416231  0.510470  0.583376  0.736916  0.792341  0.662615   \n",
            "4  0.802452  0.318776  0.410513  0.433731  0.695798  0.747607  0.537329   \n",
            "\n",
            "         7         8         9   ...        18        19        20        21  \\\n",
            "0  0.702574  0.771496  0.796643  ...  0.299509  0.460155  0.635993  0.300768   \n",
            "1  0.710620  0.783414  0.793150  ...  0.343874  0.516458  0.515442  0.398177   \n",
            "2  0.477451  0.588188  0.641939  ...  0.217385  0.373361  0.561233  0.258699   \n",
            "3  0.640991  0.704420  0.766512  ...  0.255051  0.383844  0.619394  0.293759   \n",
            "4  0.464956  0.585546  0.642732  ...  0.196680  0.368379  0.516152  0.222495   \n",
            "\n",
            "         22        23        24        25        26        27  \n",
            "0  0.518563  0.627809  0.442103  0.780766  0.565498  0.704210  \n",
            "1  0.526881  0.497518  0.498432  0.617346  0.658905  0.695423  \n",
            "2  0.424908  0.582027  0.414387  0.778371  0.548928  0.673553  \n",
            "3  0.467525  0.641031  0.456801  0.792738  0.561833  0.713693  \n",
            "4  0.418286  0.528867  0.382678  0.761621  0.541113  0.613795  \n",
            "\n",
            "[5 rows x 28 columns]\n"
          ]
        }
      ]
    },
    {
      "cell_type": "code",
      "source": [
        "plt.figure(figsize=(10, 10))\n",
        "sns.set(font_scale=1.5)\n",
        "\n",
        "# sns.heatmap(heatmap_diff,\n",
        "#             cmap='coolwarm',\n",
        "#             annot=True,\n",
        "#             fmt='.5g',\n",
        "#             vmax=1)\n",
        "# ax = sns.heatmap(test_heat,cmap = sns.color_palette(\"vlag\", as_cmap=True),vmin=-1, vmax=1)\n",
        "ax = sns.heatmap(heatmap_diff,cmap = 'cool')\n",
        "plt.xlabel('patient',fontsize=22)\n",
        "plt.ylabel('difference',fontsize=22)"
      ],
      "metadata": {
        "colab": {
          "base_uri": "https://localhost:8080/",
          "height": 651
        },
        "id": "8SonT0AEUK0L",
        "outputId": "e2cae7b4-a6fd-4906-97b3-ec8582f47634"
      },
      "execution_count": 25,
      "outputs": [
        {
          "output_type": "execute_result",
          "data": {
            "text/plain": [
              "Text(58.5, 0.5, 'difference')"
            ]
          },
          "metadata": {},
          "execution_count": 25
        },
        {
          "output_type": "display_data",
          "data": {
            "text/plain": [
              "<Figure size 720x720 with 2 Axes>"
            ],
            "image/png": "[encoded data removed]"
          },
          "metadata": {
            "needs_background": "light"
          }
        }
      ]
    },
    {
      "cell_type": "code",
      "source": [
        "plt.figure(figsize=(10, 10))\n",
        "sns.set(font_scale=1.5)\n",
        "\n",
        "# sns.heatmap(heatmap_diff,\n",
        "#             cmap='coolwarm',\n",
        "#             annot=True,\n",
        "#             fmt='.5g',\n",
        "#             vmax=1)\n",
        "# ax = sns.heatmap(heatmap_diff,cmap = sns.color_palette(\"vlag\", as_cmap=True), vmin=-1, vmax=1)\n",
        "ax = sns.heatmap(heatmap_diff,cmap = sns.color_palette(\"vlag\", as_cmap=True))\n",
        "# ax = sns.heatmap(heatmap_diff,cmap = 'cool')\n",
        "plt.xlabel('patient',fontsize=22)\n",
        "plt.ylabel('difference',fontsize=22)"
      ],
      "metadata": {
        "colab": {
          "base_uri": "https://localhost:8080/",
          "height": 652
        },
        "id": "YZsseRoWJxV0",
        "outputId": "f9d375d4-791e-40a4-8eaf-acf2d4985c61"
      },
      "execution_count": 45,
      "outputs": [
        {
          "output_type": "execute_result",
          "data": {
            "text/plain": [
              "Text(58.5, 0.5, 'difference')"
            ]
          },
          "metadata": {},
          "execution_count": 45
        },
        {
          "output_type": "display_data",
          "data": {
            "text/plain": [
              "<Figure size 720x720 with 2 Axes>"
            ],
            "image/png": "[encoded data removed]"
          },
          "metadata": {}
        }
      ]
    },
    {
      "cell_type": "markdown",
      "source": [
        "index -0-based:\n",
        "0 column: redness -> peg & Glu\n",
        "13 column : blueness -> BP & Skinthickness"
      ],
      "metadata": {
        "id": "0L9TpqI6RD3d"
      }
    },
    {
      "cell_type": "code",
      "source": [
        "row_num_single= heatmap_diff[heatmap_diff.iloc[:,1] < 0.2].index \n",
        "# .to_numpy() \n",
        "print(row_num_single)"
      ],
      "metadata": {
        "colab": {
          "base_uri": "https://localhost:8080/"
        },
        "id": "Q_Q21hRR81Tn",
        "outputId": "a11d0d21-2f9b-4e7f-de04-3a140dd43d32"
      },
      "execution_count": 27,
      "outputs": [
        {
          "output_type": "stream",
          "name": "stdout",
          "text": [
            "Int64Index([45, 62, 73, 74, 81, 90, 138, 141, 159, 187, 209, 214], dtype='int64')\n"
          ]
        }
      ]
    },
    {
      "cell_type": "code",
      "source": [
        "row_num_double= heatmap_diff[(heatmap_diff.iloc[:,1] < 0.3) & (heatmap_diff.iloc[:,16] < 0.35) &(heatmap_diff.iloc[:,24] < 0.15)].index \n",
        "# .to_numpy() \n",
        "print(row_num_double)"
      ],
      "metadata": {
        "colab": {
          "base_uri": "https://localhost:8080/"
        },
        "id": "oy2EMra7Cfp6",
        "outputId": "adb38927-0345-431c-bf8d-54a4b99c7963"
      },
      "execution_count": 28,
      "outputs": [
        {
          "output_type": "stream",
          "name": "stdout",
          "text": [
            "Int64Index([45, 74, 81, 90, 141, 187], dtype='int64')\n"
          ]
        }
      ]
    },
    {
      "cell_type": "code",
      "source": [
        "tide = heatmap_diff[((heatmap_diff.iloc[:,5] < 0.4) & (heatmap_diff.iloc[:,25] < 0.3))|(heatmap_diff.iloc[:,0] < 0.4)].index \n",
        "print(tide)"
      ],
      "metadata": {
        "colab": {
          "base_uri": "https://localhost:8080/"
        },
        "id": "6Hs6erNKDJQQ",
        "outputId": "542f58fb-fd98-4f28-d1f6-be402e8a0b7a"
      },
      "execution_count": 29,
      "outputs": [
        {
          "output_type": "stream",
          "name": "stdout",
          "text": [
            "Int64Index([45, 159, 187, 209, 214], dtype='int64')\n"
          ]
        }
      ]
    },
    {
      "cell_type": "code",
      "source": [
        "sort = heatmap_diff[heatmap_diff.index.isin(row_num_double)]\n",
        "print(sort)"
      ],
      "metadata": {
        "colab": {
          "base_uri": "https://localhost:8080/"
        },
        "id": "10Xo0hGmFPHm",
        "outputId": "7de3cf93-46fe-4746-b548-017adc3d4021"
      },
      "execution_count": 30,
      "outputs": [
        {
          "output_type": "stream",
          "name": "stdout",
          "text": [
            "           0         1         2         3         4         5         6   \\\n",
            "45   0.385488  0.020757  0.047353  0.024671  0.141360  0.237844  0.027801   \n",
            "74   0.624776  0.060979  0.113955  0.101618  0.168762  0.422732  0.083718   \n",
            "81   0.819475  0.199463  0.284486  0.240962  0.463470  0.413474  0.376081   \n",
            "90   0.765251  0.090020  0.119157  0.110687  0.263799  0.364518  0.191757   \n",
            "141  0.736885  0.083735  0.127494  0.101850  0.255469  0.450211  0.111126   \n",
            "187  0.480337  0.028360  0.048488  0.054787  0.076014  0.233796  0.043219   \n",
            "\n",
            "           7         8         9   ...        18        19        20  \\\n",
            "45   0.281750  0.414866  0.291187  ...  0.028491  0.179643  0.252878   \n",
            "74   0.521767  0.630219  0.619778  ...  0.096869  0.198451  0.421686   \n",
            "81   0.334869  0.438914  0.370292  ...  0.053254  0.152329  0.109048   \n",
            "90   0.582453  0.639212  0.623995  ...  0.063033  0.180050  0.231973   \n",
            "141  0.611022  0.695296  0.650671  ...  0.080075  0.230375  0.403725   \n",
            "187  0.374837  0.467443  0.546664  ...  0.046850  0.077658  0.202782   \n",
            "\n",
            "           21        22        23        24        25        26        27  \n",
            "45   0.036110  0.102061  0.165046  0.018525  0.568721  0.115063  0.185602  \n",
            "74   0.094336  0.175016  0.431752  0.079291  0.568882  0.149957  0.372962  \n",
            "81   0.095663  0.114154  0.080489  0.069352  0.186036  0.177837  0.127774  \n",
            "90   0.110639  0.163128  0.219294  0.097616  0.437548  0.244440  0.342573  \n",
            "141  0.098102  0.181814  0.349565  0.071161  0.604976  0.197967  0.372569  \n",
            "187  0.041233  0.087642  0.274061  0.045840  0.297665  0.069005  0.202921  \n",
            "\n",
            "[6 rows x 28 columns]\n"
          ]
        }
      ]
    },
    {
      "cell_type": "code",
      "source": [
        "print(sort.describe().T)"
      ],
      "metadata": {
        "colab": {
          "base_uri": "https://localhost:8080/"
        },
        "id": "6AKrBj3-GQuq",
        "outputId": "9db946f9-a7f2-41e6-a29d-2b83a8bb29ac"
      },
      "execution_count": 31,
      "outputs": [
        {
          "output_type": "stream",
          "name": "stdout",
          "text": [
            "    count      mean       std       min       25%       50%       75%  \\\n",
            "0     6.0  0.635368  0.171847  0.385488  0.516446  0.680830  0.758159   \n",
            "1     6.0  0.080552  0.064687  0.020757  0.036514  0.072357  0.088449   \n",
            "2     6.0  0.123489  0.086565  0.047353  0.064855  0.116556  0.125410   \n",
            "3     6.0  0.105762  0.074176  0.024671  0.066494  0.101734  0.108478   \n",
            "4     6.0  0.228146  0.135349  0.076014  0.148211  0.212116  0.261716   \n",
            "5     6.0  0.353762  0.095467  0.233796  0.269513  0.388996  0.420418   \n",
            "6     6.0  0.138950  0.129894  0.027801  0.053344  0.097422  0.171599   \n",
            "7     6.0  0.451116  0.138440  0.281750  0.344861  0.448302  0.567282   \n",
            "8     6.0  0.547658  0.120738  0.414866  0.446047  0.548831  0.636964   \n",
            "9     6.0  0.517098  0.150515  0.291187  0.414385  0.583221  0.622941   \n",
            "10    6.0  0.680827  0.107181  0.558308  0.582797  0.693518  0.773769   \n",
            "11    6.0  0.804484  0.129182  0.548042  0.819307  0.843837  0.873652   \n",
            "12    6.0  0.545405  0.149917  0.316830  0.477572  0.540280  0.649077   \n",
            "13    6.0  0.031931  0.012628  0.017299  0.020802  0.033002  0.041979   \n",
            "14    6.0  0.021419  0.008950  0.007480  0.016950  0.022363  0.028054   \n",
            "15    6.0  0.105122  0.037161  0.047604  0.089756  0.104100  0.128712   \n",
            "16    6.0  0.194424  0.096594  0.065939  0.145558  0.170885  0.277620   \n",
            "17    6.0  0.040735  0.019983  0.013731  0.026529  0.045819  0.050144   \n",
            "18    6.0  0.061429  0.024374  0.028491  0.048451  0.058143  0.075815   \n",
            "19    6.0  0.169751  0.051938  0.077658  0.159157  0.179847  0.193851   \n",
            "20    6.0  0.270349  0.120875  0.109048  0.210079  0.242426  0.366013   \n",
            "21    6.0  0.079347  0.032075  0.036110  0.054509  0.095000  0.097492   \n",
            "22    6.0  0.137302  0.040779  0.087642  0.105084  0.138641  0.172044   \n",
            "23    6.0  0.253368  0.126769  0.080489  0.178608  0.246677  0.330689   \n",
            "24    6.0  0.063631  0.027716  0.018525  0.051718  0.070256  0.077259   \n",
            "25    6.0  0.443971  0.170332  0.186036  0.332636  0.503135  0.568842   \n",
            "26    6.0  0.159045  0.062104  0.069005  0.123787  0.163897  0.192935   \n",
            "27    6.0  0.267400  0.107888  0.127774  0.189932  0.272747  0.365070   \n",
            "\n",
            "         max  \n",
            "0   0.819475  \n",
            "1   0.199463  \n",
            "2   0.284486  \n",
            "3   0.240962  \n",
            "4   0.463470  \n",
            "5   0.450211  \n",
            "6   0.376081  \n",
            "7   0.611022  \n",
            "8   0.695296  \n",
            "9   0.650671  \n",
            "10  0.793211  \n",
            "11  0.896468  \n",
            "12  0.733027  \n",
            "13  0.046575  \n",
            "14  0.031214  \n",
            "15  0.153040  \n",
            "16  0.308523  \n",
            "17  0.067358  \n",
            "18  0.096869  \n",
            "19  0.230375  \n",
            "20  0.421686  \n",
            "21  0.110639  \n",
            "22  0.181814  \n",
            "23  0.431752  \n",
            "24  0.097616  \n",
            "25  0.604976  \n",
            "26  0.244440  \n",
            "27  0.372962  \n"
          ]
        }
      ]
    },
    {
      "cell_type": "code",
      "source": [
        "print(heatmap_diff.iloc[74])"
      ],
      "metadata": {
        "colab": {
          "base_uri": "https://localhost:8080/"
        },
        "id": "RW88QeSoAa-1",
        "outputId": "bf59ce11-8c41-4ccc-a213-121e1a303819"
      },
      "execution_count": 32,
      "outputs": [
        {
          "output_type": "stream",
          "name": "stdout",
          "text": [
            "0     0.624776\n",
            "1     0.060979\n",
            "2     0.113955\n",
            "3     0.101618\n",
            "4     0.168762\n",
            "5     0.422732\n",
            "6     0.083718\n",
            "7     0.521767\n",
            "8     0.630219\n",
            "9     0.619778\n",
            "10    0.740787\n",
            "11    0.877970\n",
            "12    0.578366\n",
            "13    0.044076\n",
            "14    0.031214\n",
            "15    0.114595\n",
            "16    0.307360\n",
            "17    0.043503\n",
            "18    0.096869\n",
            "19    0.198451\n",
            "20    0.421686\n",
            "21    0.094336\n",
            "22    0.175016\n",
            "23    0.431752\n",
            "24    0.079291\n",
            "25    0.568882\n",
            "26    0.149957\n",
            "27    0.372962\n",
            "Name: 74, dtype: float32\n"
          ]
        }
      ]
    },
    {
      "cell_type": "code",
      "source": [
        "print(heatmap_diff.iloc[45])"
      ],
      "metadata": {
        "colab": {
          "base_uri": "https://localhost:8080/"
        },
        "id": "ket80z15AnOE",
        "outputId": "3c74db47-9a40-4251-d27e-202e27d56cd1"
      },
      "execution_count": 33,
      "outputs": [
        {
          "output_type": "stream",
          "name": "stdout",
          "text": [
            "0     0.385488\n",
            "1     0.020757\n",
            "2     0.047353\n",
            "3     0.024671\n",
            "4     0.141360\n",
            "5     0.237844\n",
            "6     0.027801\n",
            "7     0.281750\n",
            "8     0.414866\n",
            "9     0.291187\n",
            "10    0.646248\n",
            "11    0.826977\n",
            "12    0.316830\n",
            "13    0.017299\n",
            "14    0.007480\n",
            "15    0.088473\n",
            "16    0.153371\n",
            "17    0.013731\n",
            "18    0.028491\n",
            "19    0.179643\n",
            "20    0.252878\n",
            "21    0.036110\n",
            "22    0.102061\n",
            "23    0.165046\n",
            "24    0.018525\n",
            "25    0.568721\n",
            "26    0.115063\n",
            "27    0.185602\n",
            "Name: 45, dtype: float32\n"
          ]
        }
      ]
    },
    {
      "cell_type": "code",
      "source": [
        "print(heatmap_diff.iloc[187])"
      ],
      "metadata": {
        "colab": {
          "base_uri": "https://localhost:8080/"
        },
        "id": "tETuDnsdcPcT",
        "outputId": "124be6cd-23c8-45d2-e59a-6709503aca78"
      },
      "execution_count": 34,
      "outputs": [
        {
          "output_type": "stream",
          "name": "stdout",
          "text": [
            "0     0.480337\n",
            "1     0.028360\n",
            "2     0.048488\n",
            "3     0.054787\n",
            "4     0.076014\n",
            "5     0.233796\n",
            "6     0.043219\n",
            "7     0.374837\n",
            "8     0.467443\n",
            "9     0.546664\n",
            "10    0.558308\n",
            "11    0.816750\n",
            "12    0.469365\n",
            "13    0.017631\n",
            "14    0.016490\n",
            "15    0.047604\n",
            "16    0.142953\n",
            "17    0.020871\n",
            "18    0.046850\n",
            "19    0.077658\n",
            "20    0.202782\n",
            "21    0.041233\n",
            "22    0.087642\n",
            "23    0.274061\n",
            "24    0.045840\n",
            "25    0.297665\n",
            "26    0.069005\n",
            "27    0.202921\n",
            "Name: 187, dtype: float32\n"
          ]
        }
      ]
    },
    {
      "cell_type": "code",
      "source": [
        "filter = pd.DataFrame(x_test[heatmap_diff.index.isin(row_num_double)])\n",
        "print(filter.describe().T)"
      ],
      "metadata": {
        "colab": {
          "base_uri": "https://localhost:8080/"
        },
        "id": "lmLC0UeoGltA",
        "outputId": "b7ea5e76-9904-4026-b9bc-295361086689"
      },
      "execution_count": 35,
      "outputs": [
        {
          "output_type": "stream",
          "name": "stdout",
          "text": [
            "   count      mean       std       min       25%       50%       75%       max\n",
            "0    6.0  0.042639  0.036277  0.020363  0.026099  0.026625  0.037333  0.115393\n",
            "1    6.0  0.051593  0.003238  0.046894  0.050275  0.051785  0.052433  0.056676\n",
            "2    6.0  0.037925  0.004974  0.032507  0.034724  0.036940  0.039896  0.046298\n",
            "3    6.0  0.053253  0.017638  0.026191  0.049738  0.051014  0.058985  0.080347\n",
            "4    6.0  0.059696  0.069560  0.003351  0.019098  0.023191  0.090286  0.178059\n",
            "5    6.0  0.046814  0.008971  0.039924  0.042426  0.044439  0.045391  0.064619\n",
            "6    6.0  0.115356  0.038145  0.051142  0.098214  0.126133  0.142783  0.151484\n",
            "7    6.0  0.033774  0.010597  0.025586  0.025586  0.028657  0.042473  0.048103\n"
          ]
        }
      ]
    },
    {
      "cell_type": "code",
      "source": [
        "import statsmodels.stats.api as sms\n",
        "\n",
        "inrerval = filter.apply(lambda x: sms.DescrStatsW(x).tconfint_mean(), axis=0)\n",
        "print(inrerval)"
      ],
      "metadata": {
        "colab": {
          "base_uri": "https://localhost:8080/"
        },
        "id": "Wb1_m4GaHhUO",
        "outputId": "0c562cc5-da4c-4c2b-89f5-3b0ffea578ab"
      },
      "execution_count": 36,
      "outputs": [
        {
          "output_type": "stream",
          "name": "stdout",
          "text": [
            "          0         1         2         3         4         5         6  \\\n",
            "0  0.004569  0.048195  0.032705  0.034744 -0.013303  0.037399  0.075325   \n",
            "1  0.080709  0.054991  0.043146  0.071763  0.132695  0.056229  0.155386   \n",
            "\n",
            "          7  \n",
            "0  0.022654  \n",
            "1  0.044895  \n"
          ]
        }
      ]
    },
    {
      "cell_type": "code",
      "source": [
        "import statsmodels.stats.api as sms\n",
        "x_test_df = pd.DataFrame(x_test, columns = [data.columns[0:8]])\n",
        "confid = x_test_df.apply(lambda x: sms.DescrStatsW(x).tconfint_mean())\n",
        "confindence_interval= confid.to_numpy()\n",
        "low_bd = confindence_interval[0]\n",
        "high_bd = confindence_interval[1]\n"
      ],
      "metadata": {
        "id": "t3cKEitNdHDS"
      },
      "execution_count": 37,
      "outputs": []
    },
    {
      "cell_type": "code",
      "source": [
        "prediction_high = []\n",
        "for j in range(8):\n",
        "  X_high = np.copy(x_test)\n",
        "  for i in range(len(x_test)):\n",
        "    X_high[i][j] = high_bd[j]\n",
        "  _, accuracy = model.evaluate(X_high, y_test, verbose=0)\n",
        "  predictions_sub_high = model.predict(X_high) \n",
        "  if len(prediction_high) == 0:\n",
        "    prediction_high = predictions_sub_high\n",
        "  else:\n",
        "    prediction_high = np.concatenate((prediction_high, predictions_sub_high), axis=1)\n",
        "print(prediction_high)\n"
      ],
      "metadata": {
        "colab": {
          "base_uri": "https://localhost:8080/"
        },
        "id": "zD72lvuIgWl2",
        "outputId": "1c093e3b-437c-4bc6-806c-0337024b2463"
      },
      "execution_count": 38,
      "outputs": [
        {
          "output_type": "stream",
          "name": "stdout",
          "text": [
            "8/8 [==============================] - 0s 2ms/step\n",
            "8/8 [==============================] - 0s 2ms/step\n",
            "8/8 [==============================] - 0s 2ms/step\n",
            "8/8 [==============================] - 0s 2ms/step\n",
            "8/8 [==============================] - 0s 2ms/step\n",
            "8/8 [==============================] - 0s 3ms/step\n",
            "8/8 [==============================] - 0s 2ms/step\n",
            "8/8 [==============================] - 0s 2ms/step\n",
            "[[0.17738192 0.38215518 0.19954698 ... 0.20860633 0.2891164  0.16097543]\n",
            " [0.45550632 0.42409742 0.45868948 ... 0.5318843  0.55146915 0.25745758]\n",
            " [0.11769925 0.1484963  0.0922654  ... 0.12542875 0.12641618 0.11530003]\n",
            " ...\n",
            " [0.09219167 0.0946146  0.0535164  ... 0.09712386 0.05575018 0.07639693]\n",
            " [0.08774856 0.19995838 0.07732563 ... 0.09769765 0.09741071 0.0952336 ]\n",
            " [0.71798235 0.42518437 0.59535915 ... 0.5065437  0.5540617  0.67668176]]\n"
          ]
        }
      ]
    },
    {
      "cell_type": "code",
      "source": [
        "prediction_low = []\n",
        "for j in range(8):\n",
        "  X_low = np.copy(x_test)\n",
        "  for i in range(len(x_test)):\n",
        "    X_low[i][j] = low_bd[j]\n",
        "  _, accuracy = model.evaluate(X_low, y_test, verbose=0)\n",
        "  predictions_sub_low = model.predict(X_low) \n",
        "  if len(prediction_low) == 0:\n",
        "    prediction_low = predictions_sub_low\n",
        "  else:\n",
        "    prediction_low = np.concatenate((prediction_low, predictions_sub_low), axis=1)\n",
        "print(prediction_low)\n"
      ],
      "metadata": {
        "colab": {
          "base_uri": "https://localhost:8080/"
        },
        "id": "c_pWTlSXg5pa",
        "outputId": "420a6c63-ee71-46d1-9cce-624fb813e5cd"
      },
      "execution_count": 39,
      "outputs": [
        {
          "output_type": "stream",
          "name": "stdout",
          "text": [
            "8/8 [==============================] - 0s 2ms/step\n",
            "8/8 [==============================] - 0s 2ms/step\n",
            "8/8 [==============================] - 0s 2ms/step\n",
            "8/8 [==============================] - 0s 3ms/step\n",
            "8/8 [==============================] - 0s 2ms/step\n",
            "8/8 [==============================] - 0s 2ms/step\n",
            "8/8 [==============================] - 0s 2ms/step\n",
            "8/8 [==============================] - 0s 2ms/step\n",
            "[[0.16200568 0.33386332 0.19976507 ... 0.19467907 0.26852486 0.14968887]\n",
            " [0.4285819  0.3737113  0.4590284  ... 0.5102908  0.5260184  0.24135229]\n",
            " [0.10682472 0.12381414 0.09237976 ... 0.11623906 0.11552932 0.10680829]\n",
            " ...\n",
            " [0.0825952  0.07806727 0.05358556 ... 0.08979499 0.05059652 0.07054192]\n",
            " [0.07939225 0.16841435 0.07742305 ... 0.0903298  0.08876793 0.08807263]\n",
            " [0.69535637 0.3747531  0.59568805 ... 0.48491302 0.5286322  0.6575756 ]]\n"
          ]
        }
      ]
    },
    {
      "cell_type": "code",
      "source": [
        "result_bd = np.subtract(prediction_high, prediction_low)\n",
        "print(result_bd.shape)"
      ],
      "metadata": {
        "colab": {
          "base_uri": "https://localhost:8080/"
        },
        "id": "Fi29rK1ThJIP",
        "outputId": "aecd76c5-fa82-4cf1-b1b1-1ff4860232bd"
      },
      "execution_count": 40,
      "outputs": [
        {
          "output_type": "stream",
          "name": "stdout",
          "text": [
            "(231, 8)\n"
          ]
        }
      ]
    },
    {
      "cell_type": "code",
      "source": [
        "heatmap_bd_diff = pd.DataFrame(result_bd, columns = [data.columns[0:8]])\n",
        "print(heatmap_bd_diff)"
      ],
      "metadata": {
        "colab": {
          "base_uri": "https://localhost:8080/"
        },
        "id": "OaS4g_KRhTpS",
        "outputId": "fece91f2-8e42-40d5-9e7b-56e52bcdef94"
      },
      "execution_count": 41,
      "outputs": [
        {
          "output_type": "stream",
          "name": "stdout",
          "text": [
            "    Pregnancies   Glucose BloodPressure SkinThickness   Insulin       BMI  \\\n",
            "0      0.015376  0.048292     -0.000218      0.004040  0.004103  0.013927   \n",
            "1      0.026924  0.050386     -0.000339      0.006511  0.006415  0.021594   \n",
            "2      0.010875  0.024682     -0.000114      0.002297  0.002222  0.009190   \n",
            "3      0.014824  0.039336     -0.000176      0.003091  0.003402  0.010915   \n",
            "4      0.007601  0.023988     -0.000088      0.001848  0.001778  0.008759   \n",
            "..          ...       ...           ...           ...       ...       ...   \n",
            "226    0.026612  0.045352     -0.000318      0.006174  0.006057  0.019553   \n",
            "227    0.022801  0.051742     -0.000308      0.005982  0.005860  0.017964   \n",
            "228    0.009596  0.016547     -0.000069      0.001517  0.001341  0.007329   \n",
            "229    0.008356  0.031544     -0.000097      0.001946  0.001955  0.007368   \n",
            "230    0.022626  0.050431     -0.000329      0.006451  0.006443  0.021631   \n",
            "\n",
            "    DiabetesPedigreeFunction       Age  \n",
            "0                   0.020592  0.011287  \n",
            "1                   0.025451  0.016105  \n",
            "2                   0.010887  0.008492  \n",
            "3                   0.016734  0.011416  \n",
            "4                   0.007640  0.006826  \n",
            "..                       ...       ...  \n",
            "226                 0.024384  0.018469  \n",
            "227                 0.020910  0.019911  \n",
            "228                 0.005154  0.005855  \n",
            "229                 0.008643  0.007161  \n",
            "230                 0.025429  0.019106  \n",
            "\n",
            "[231 rows x 8 columns]\n"
          ]
        }
      ]
    },
    {
      "cell_type": "code",
      "source": [
        "plt.figure(figsize=(10, 10))\n",
        "sns.set(font_scale=1.5)\n",
        "\n",
        "# sns.heatmap(heatmap_diff,\n",
        "#             cmap='coolwarm',\n",
        "#             annot=True,\n",
        "#             fmt='.5g',\n",
        "#             vmax=1)\n",
        "# ax = sns.heatmap(heatmap_bd_diff,cmap = sns.color_palette(\"vlag\", as_cmap=True), vmin=-1, vmax=1)\n",
        "ax = sns.heatmap(heatmap_bd_diff,cmap = sns.color_palette(\"vlag\", as_cmap=True))\n",
        "\n",
        "plt.xlabel('patient',fontsize=22)\n",
        "plt.ylabel('difference',fontsize=22)"
      ],
      "metadata": {
        "colab": {
          "base_uri": "https://localhost:8080/",
          "height": 849
        },
        "id": "v6rWN2dDheqe",
        "outputId": "68dd6f84-54a8-41c6-e86b-563dd67d937d"
      },
      "execution_count": 42,
      "outputs": [
        {
          "output_type": "execute_result",
          "data": {
            "text/plain": [
              "Text(58.5, 0.5, 'difference')"
            ]
          },
          "metadata": {},
          "execution_count": 42
        },
        {
          "output_type": "display_data",
          "data": {
            "text/plain": [
              "<Figure size 720x720 with 2 Axes>"
            ],
            "image/png": "[encoded data removed]"
          },
          "metadata": {}
        }
      ]
    }
  ]
}